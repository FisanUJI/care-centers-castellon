{
 "cells": [
  {
   "cell_type": "markdown",
   "metadata": {},
   "source": [
    "# Care Centers in Castellon – Analysis Template\n",
    "\n",
    "This notebook demonstrates how to use your modularized code for data loading, cleaning, mapping, and analysis."
   ]
  },
  {
   "cell_type": "code",
   "execution_count": 64,
   "metadata": {},
   "outputs": [
    {
     "name": "stdout",
     "output_type": "stream",
     "text": [
      "Current working directory: c:\\Documents\\GitHub\\Repo\\care-centers-castellon\\notebooks\n",
      "Repo root (src) added to sys.path: c:\\Documents\\GitHub\\Repo\\care-centers-castellon\n"
     ]
    }
   ],
   "source": [
    "# --- 1. Notebook Setup: Import paths, libraries, and modules ---\n",
    "import sys\n",
    "import os\n",
    "print(\"Current working directory:\", os.getcwd())    # Print the current working directory\n",
    "\n",
    "# Go up one directory from notebooks (your working directory) to ensure compatibility with linux, MacOS and other systems.\n",
    "repo_root = os.path.abspath(os.path.join(os.getcwd(), '..'))\n",
    "print(\"Repo root (src) added to sys.path:\", repo_root)\n",
    "\n",
    "# Then join with 'src' to get the full path to src\n",
    "src_path = os.path.join(repo_root, 'src')\n",
    "\n",
    "# Add the path to the src directory\n",
    "sys.path.append(src_path)  # Ensure the src folder is in the path\n",
    "\n",
    "# Add src to sys.path if it's not already there\n",
    "if repo_root not in sys.path:\n",
    "    sys.path.append(repo_root)\n",
    "\n",
    "# Print the current sys.path for debugging\n",
    "'''\n",
    "print(\"\\nCurrent sys.path:\") \n",
    "for path in sys.path:\n",
    "    print(path)   \n",
    "''' \n",
    "\n",
    "# Import necessary libraries and your custom modules\n",
    "import pandas as pd\n",
    "import geopandas as gpd\n",
    "import matplotlib.pyplot as plt\n",
    "\n",
    "from data import fetch_osm_data, clean_data\n",
    "from src.mapping import generate_castellon_map\n",
    "from src.visualization import display_images\n",
    "import src.config"
   ]
  },
  {
   "cell_type": "markdown",
   "metadata": {},
   "source": [
    "## 2. Data Collection\n",
    "\n",
    "Use the data module to fetch OSM data for Castellón."
   ]
  },
  {
   "cell_type": "code",
   "execution_count": 68,
   "metadata": {},
   "outputs": [
    {
     "ename": "TypeError",
     "evalue": "fetch_osm_data() got an unexpected keyword argument 'network_types'",
     "output_type": "error",
     "traceback": [
      "\u001b[31m---------------------------------------------------------------------------\u001b[39m",
      "\u001b[31mTypeError\u001b[39m                                 Traceback (most recent call last)",
      "\u001b[36mCell\u001b[39m\u001b[36m \u001b[39m\u001b[32mIn[68]\u001b[39m\u001b[32m, line 1\u001b[39m\n\u001b[32m----> \u001b[39m\u001b[32m1\u001b[39m data = fetch_osm_data(\u001b[33m\"\u001b[39m\u001b[33mCastellón, Valencian Community, Spain\u001b[39m\u001b[33m\"\u001b[39m, network_types=[\u001b[33m'\u001b[39m\u001b[33mdrive\u001b[39m\u001b[33m'\u001b[39m, \u001b[33m'\u001b[39m\u001b[33mwalk\u001b[39m\u001b[33m'\u001b[39m]) \u001b[38;5;66;03m# Fetch OSM data for Castellón\u001b[39;00m\n\u001b[32m      2\u001b[39m drive_nodes, drive_edges = data[\u001b[33m'\u001b[39m\u001b[33mdrive\u001b[39m\u001b[33m'\u001b[39m]\n\u001b[32m      3\u001b[39m walk_nodes, walk_edges = data[\u001b[33m'\u001b[39m\u001b[33mwalk\u001b[39m\u001b[33m'\u001b[39m]\n",
      "\u001b[31mTypeError\u001b[39m: fetch_osm_data() got an unexpected keyword argument 'network_types'"
     ]
    }
   ],
   "source": [
    "data = fetch_osm_data(\"Castellón, Valencian Community, Spain\", network_types=['drive', 'walk']) # Fetch OSM data for Castellón\n",
    "drive_nodes, drive_edges = data['drive']\n",
    "walk_nodes, walk_edges = data['walk']"
   ]
  },
  {
   "cell_type": "markdown",
   "metadata": {},
   "source": [
    "## 3. Data Inspection\n",
    "\n",
    "Preview the raw dataframes."
   ]
  },
  {
   "cell_type": "code",
   "execution_count": 60,
   "metadata": {},
   "outputs": [
    {
     "ename": "NameError",
     "evalue": "name 'drive_edges' is not defined",
     "output_type": "error",
     "traceback": [
      "\u001b[31m---------------------------------------------------------------------------\u001b[39m",
      "\u001b[31mNameError\u001b[39m                                 Traceback (most recent call last)",
      "\u001b[36mCell\u001b[39m\u001b[36m \u001b[39m\u001b[32mIn[60]\u001b[39m\u001b[32m, line 1\u001b[39m\n\u001b[32m----> \u001b[39m\u001b[32m1\u001b[39m drive_edges.head()\n",
      "\u001b[31mNameError\u001b[39m: name 'drive_edges' is not defined"
     ]
    }
   ],
   "source": [
    "drive_edges.head()"
   ]
  },
  {
   "cell_type": "code",
   "execution_count": 56,
   "metadata": {},
   "outputs": [
    {
     "data": {
      "text/html": [
       "<div>\n",
       "<style scoped>\n",
       "    .dataframe tbody tr th:only-of-type {\n",
       "        vertical-align: middle;\n",
       "    }\n",
       "\n",
       "    .dataframe tbody tr th {\n",
       "        vertical-align: top;\n",
       "    }\n",
       "\n",
       "    .dataframe thead th {\n",
       "        text-align: right;\n",
       "    }\n",
       "</style>\n",
       "<table border=\"1\" class=\"dataframe\">\n",
       "  <thead>\n",
       "    <tr style=\"text-align: right;\">\n",
       "      <th></th>\n",
       "      <th>y</th>\n",
       "      <th>x</th>\n",
       "      <th>street_count</th>\n",
       "      <th>highway</th>\n",
       "      <th>ref</th>\n",
       "      <th>geometry</th>\n",
       "    </tr>\n",
       "    <tr>\n",
       "      <th>osmid</th>\n",
       "      <th></th>\n",
       "      <th></th>\n",
       "      <th></th>\n",
       "      <th></th>\n",
       "      <th></th>\n",
       "      <th></th>\n",
       "    </tr>\n",
       "  </thead>\n",
       "  <tbody>\n",
       "    <tr>\n",
       "      <th>241152115</th>\n",
       "      <td>40.068383</td>\n",
       "      <td>-0.521933</td>\n",
       "      <td>3</td>\n",
       "      <td>NaN</td>\n",
       "      <td>NaN</td>\n",
       "      <td>POINT (-0.52193 40.06838)</td>\n",
       "    </tr>\n",
       "    <tr>\n",
       "      <th>241152143</th>\n",
       "      <td>40.068940</td>\n",
       "      <td>-0.523476</td>\n",
       "      <td>3</td>\n",
       "      <td>NaN</td>\n",
       "      <td>NaN</td>\n",
       "      <td>POINT (-0.52348 40.06894)</td>\n",
       "    </tr>\n",
       "    <tr>\n",
       "      <th>241152165</th>\n",
       "      <td>40.070172</td>\n",
       "      <td>-0.524803</td>\n",
       "      <td>3</td>\n",
       "      <td>NaN</td>\n",
       "      <td>NaN</td>\n",
       "      <td>POINT (-0.5248 40.07017)</td>\n",
       "    </tr>\n",
       "    <tr>\n",
       "      <th>241152215</th>\n",
       "      <td>40.072179</td>\n",
       "      <td>-0.526766</td>\n",
       "      <td>3</td>\n",
       "      <td>NaN</td>\n",
       "      <td>NaN</td>\n",
       "      <td>POINT (-0.52677 40.07218)</td>\n",
       "    </tr>\n",
       "    <tr>\n",
       "      <th>241160500</th>\n",
       "      <td>40.009595</td>\n",
       "      <td>-0.321847</td>\n",
       "      <td>3</td>\n",
       "      <td>NaN</td>\n",
       "      <td>NaN</td>\n",
       "      <td>POINT (-0.32185 40.00959)</td>\n",
       "    </tr>\n",
       "  </tbody>\n",
       "</table>\n",
       "</div>"
      ],
      "text/plain": [
       "                   y         x  street_count highway  ref  \\\n",
       "osmid                                                       \n",
       "241152115  40.068383 -0.521933             3     NaN  NaN   \n",
       "241152143  40.068940 -0.523476             3     NaN  NaN   \n",
       "241152165  40.070172 -0.524803             3     NaN  NaN   \n",
       "241152215  40.072179 -0.526766             3     NaN  NaN   \n",
       "241160500  40.009595 -0.321847             3     NaN  NaN   \n",
       "\n",
       "                            geometry  \n",
       "osmid                                 \n",
       "241152115  POINT (-0.52193 40.06838)  \n",
       "241152143  POINT (-0.52348 40.06894)  \n",
       "241152165   POINT (-0.5248 40.07017)  \n",
       "241152215  POINT (-0.52677 40.07218)  \n",
       "241160500  POINT (-0.32185 40.00959)  "
      ]
     },
     "execution_count": 56,
     "metadata": {},
     "output_type": "execute_result"
    }
   ],
   "source": [
    "gdf_nodes.head()"
   ]
  },
  {
   "cell_type": "markdown",
   "metadata": {},
   "source": [
    "## 4. Data Cleaning\n",
    "\n",
    "Clean the edge dataframe using the clean_data utility."
   ]
  },
  {
   "cell_type": "code",
   "execution_count": 57,
   "metadata": {},
   "outputs": [
    {
     "data": {
      "text/html": [
       "<div>\n",
       "<style scoped>\n",
       "    .dataframe tbody tr th:only-of-type {\n",
       "        vertical-align: middle;\n",
       "    }\n",
       "\n",
       "    .dataframe tbody tr th {\n",
       "        vertical-align: top;\n",
       "    }\n",
       "\n",
       "    .dataframe thead th {\n",
       "        text-align: right;\n",
       "    }\n",
       "</style>\n",
       "<table border=\"1\" class=\"dataframe\">\n",
       "  <thead>\n",
       "    <tr style=\"text-align: right;\">\n",
       "      <th></th>\n",
       "      <th></th>\n",
       "      <th></th>\n",
       "      <th>osmid</th>\n",
       "      <th>oneway</th>\n",
       "      <th>lanes</th>\n",
       "      <th>ref</th>\n",
       "      <th>name</th>\n",
       "      <th>highway</th>\n",
       "      <th>reversed</th>\n",
       "      <th>length</th>\n",
       "      <th>geometry</th>\n",
       "    </tr>\n",
       "    <tr>\n",
       "      <th>u</th>\n",
       "      <th>v</th>\n",
       "      <th>key</th>\n",
       "      <th></th>\n",
       "      <th></th>\n",
       "      <th></th>\n",
       "      <th></th>\n",
       "      <th></th>\n",
       "      <th></th>\n",
       "      <th></th>\n",
       "      <th></th>\n",
       "      <th></th>\n",
       "    </tr>\n",
       "  </thead>\n",
       "  <tbody>\n",
       "    <tr>\n",
       "      <th rowspan=\"2\" valign=\"top\">241152115</th>\n",
       "      <th>241152143</th>\n",
       "      <th>0</th>\n",
       "      <td>190076918</td>\n",
       "      <td>False</td>\n",
       "      <td>2</td>\n",
       "      <td>CV-20</td>\n",
       "      <td>Carretera de Tales</td>\n",
       "      <td>primary</td>\n",
       "      <td>False</td>\n",
       "      <td>146.441</td>\n",
       "      <td>LINESTRING (-0.52193 40.06838, -0.52215 40.068...</td>\n",
       "    </tr>\n",
       "    <tr>\n",
       "      <th>247105272</th>\n",
       "      <th>0</th>\n",
       "      <td>190076918</td>\n",
       "      <td>False</td>\n",
       "      <td>2</td>\n",
       "      <td>CV-20</td>\n",
       "      <td>Carretera de Tales</td>\n",
       "      <td>primary</td>\n",
       "      <td>True</td>\n",
       "      <td>48.182</td>\n",
       "      <td>LINESTRING (-0.52193 40.06838, -0.52188 40.068...</td>\n",
       "    </tr>\n",
       "    <tr>\n",
       "      <th rowspan=\"3\" valign=\"top\">241152143</th>\n",
       "      <th>247105306</th>\n",
       "      <th>0</th>\n",
       "      <td>22940181</td>\n",
       "      <td>False</td>\n",
       "      <td>NaN</td>\n",
       "      <td>NaN</td>\n",
       "      <td>NaN</td>\n",
       "      <td>residential</td>\n",
       "      <td>True</td>\n",
       "      <td>40.919</td>\n",
       "      <td>LINESTRING (-0.52348 40.06894, -0.52364 40.068...</td>\n",
       "    </tr>\n",
       "    <tr>\n",
       "      <th>12464799089</th>\n",
       "      <th>0</th>\n",
       "      <td>190076918</td>\n",
       "      <td>False</td>\n",
       "      <td>2</td>\n",
       "      <td>CV-20</td>\n",
       "      <td>Carretera de Tales</td>\n",
       "      <td>primary</td>\n",
       "      <td>False</td>\n",
       "      <td>162.971</td>\n",
       "      <td>LINESTRING (-0.52348 40.06894, -0.5235 40.0689...</td>\n",
       "    </tr>\n",
       "    <tr>\n",
       "      <th>241152115</th>\n",
       "      <th>0</th>\n",
       "      <td>190076918</td>\n",
       "      <td>False</td>\n",
       "      <td>2</td>\n",
       "      <td>CV-20</td>\n",
       "      <td>Carretera de Tales</td>\n",
       "      <td>primary</td>\n",
       "      <td>True</td>\n",
       "      <td>146.441</td>\n",
       "      <td>LINESTRING (-0.52348 40.06894, -0.52344 40.068...</td>\n",
       "    </tr>\n",
       "  </tbody>\n",
       "</table>\n",
       "</div>"
      ],
      "text/plain": [
       "                               osmid  oneway lanes    ref                name  \\\n",
       "u         v           key                                                       \n",
       "241152115 241152143   0    190076918   False     2  CV-20  Carretera de Tales   \n",
       "          247105272   0    190076918   False     2  CV-20  Carretera de Tales   \n",
       "241152143 247105306   0     22940181   False   NaN    NaN                 NaN   \n",
       "          12464799089 0    190076918   False     2  CV-20  Carretera de Tales   \n",
       "          241152115   0    190076918   False     2  CV-20  Carretera de Tales   \n",
       "\n",
       "                               highway reversed   length  \\\n",
       "u         v           key                                  \n",
       "241152115 241152143   0        primary    False  146.441   \n",
       "          247105272   0        primary     True   48.182   \n",
       "241152143 247105306   0    residential     True   40.919   \n",
       "          12464799089 0        primary    False  162.971   \n",
       "          241152115   0        primary     True  146.441   \n",
       "\n",
       "                                                                    geometry  \n",
       "u         v           key                                                     \n",
       "241152115 241152143   0    LINESTRING (-0.52193 40.06838, -0.52215 40.068...  \n",
       "          247105272   0    LINESTRING (-0.52193 40.06838, -0.52188 40.068...  \n",
       "241152143 247105306   0    LINESTRING (-0.52348 40.06894, -0.52364 40.068...  \n",
       "          12464799089 0    LINESTRING (-0.52348 40.06894, -0.5235 40.0689...  \n",
       "          241152115   0    LINESTRING (-0.52348 40.06894, -0.52344 40.068...  "
      ]
     },
     "execution_count": 57,
     "metadata": {},
     "output_type": "execute_result"
    }
   ],
   "source": [
    "gdf_edges_clean = clean_data(gdf_edges)\n",
    "gdf_edges_clean.head()"
   ]
  },
  {
   "cell_type": "markdown",
   "metadata": {},
   "source": [
    "## 5. Quick Data Summary\n",
    "\n",
    "Check the number of columns and rows after cleaning."
   ]
  },
  {
   "cell_type": "code",
   "execution_count": 58,
   "metadata": {},
   "outputs": [
    {
     "name": "stdout",
     "output_type": "stream",
     "text": [
      "Cleaned Edges shape: (87920, 9)\n",
      "Columns: ['osmid', 'oneway', 'lanes', 'ref', 'name', 'highway', 'reversed', 'length', 'geometry']\n"
     ]
    }
   ],
   "source": [
    "print(f\"Cleaned Edges shape: {gdf_edges_clean.shape}\")\n",
    "print(f\"Columns: {gdf_edges_clean.columns.tolist()}\")"
   ]
  },
  {
   "cell_type": "markdown",
   "metadata": {},
   "source": [
    "## 6. Interactive Map of Castellon\n",
    "\n",
    "Use the mapping module to generate a folium map."
   ]
  },
  {
   "cell_type": "code",
   "execution_count": 59,
   "metadata": {},
   "outputs": [
    {
     "ename": "FileNotFoundError",
     "evalue": "[Errno 2] No such file or directory: './data/georef-spain-provincia.geojson'",
     "output_type": "error",
     "traceback": [
      "\u001b[31m---------------------------------------------------------------------------\u001b[39m",
      "\u001b[31mFileNotFoundError\u001b[39m                         Traceback (most recent call last)",
      "\u001b[36mCell\u001b[39m\u001b[36m \u001b[39m\u001b[32mIn[59]\u001b[39m\u001b[32m, line 1\u001b[39m\n\u001b[32m----> \u001b[39m\u001b[32m1\u001b[39m castellon_map = generate_castellon_map()\n\u001b[32m      2\u001b[39m castellon_map\n",
      "\u001b[36mFile \u001b[39m\u001b[32mc:\\Documents\\GitHub\\Repo\\care-centers-castellon\\src\\mapping.py:11\u001b[39m, in \u001b[36mgenerate_castellon_map\u001b[39m\u001b[34m()\u001b[39m\n\u001b[32m      5\u001b[39m \u001b[38;5;250m\u001b[39m\u001b[33;03m\"\"\"\u001b[39;00m\n\u001b[32m      6\u001b[39m \u001b[33;03mGenerate an interactive map of Castellon de la Plana.\u001b[39;00m\n\u001b[32m      7\u001b[39m \u001b[33;03mReturns:\u001b[39;00m\n\u001b[32m      8\u001b[39m \u001b[33;03m    folium.Map: A Folium map object.\u001b[39;00m\n\u001b[32m      9\u001b[39m \u001b[33;03m\"\"\"\u001b[39;00m\n\u001b[32m     10\u001b[39m castellon_map = folium.Map(location=CASTELLON_CENTER, zoom_start=CASTELLON_ZOOM)\n\u001b[32m---> \u001b[39m\u001b[32m11\u001b[39m folium.GeoJson(\n\u001b[32m     12\u001b[39m     GEOJSON_PATH,\n\u001b[32m     13\u001b[39m     name=\u001b[33m\"\u001b[39m\u001b[33mCastellon Boundary\u001b[39m\u001b[33m\"\u001b[39m,\n\u001b[32m     14\u001b[39m     style_function=\u001b[38;5;28;01mlambda\u001b[39;00m x: {\n\u001b[32m     15\u001b[39m         \u001b[33m'\u001b[39m\u001b[33mfillColor\u001b[39m\u001b[33m'\u001b[39m: \u001b[33m'\u001b[39m\u001b[33mgrey\u001b[39m\u001b[33m'\u001b[39m,\n\u001b[32m     16\u001b[39m         \u001b[33m'\u001b[39m\u001b[33mcolor\u001b[39m\u001b[33m'\u001b[39m: \u001b[33m'\u001b[39m\u001b[33mblack\u001b[39m\u001b[33m'\u001b[39m,\n\u001b[32m     17\u001b[39m         \u001b[33m'\u001b[39m\u001b[33mweight\u001b[39m\u001b[33m'\u001b[39m: \u001b[32m2\u001b[39m,\n\u001b[32m     18\u001b[39m         \u001b[33m'\u001b[39m\u001b[33mfillOpacity\u001b[39m\u001b[33m'\u001b[39m: \u001b[32m0.5\u001b[39m\n\u001b[32m     19\u001b[39m     }\n\u001b[32m     20\u001b[39m ).add_to(castellon_map)\n\u001b[32m     21\u001b[39m \u001b[38;5;28;01mreturn\u001b[39;00m castellon_map\n",
      "\u001b[36mFile \u001b[39m\u001b[32mc:\\ProgramData\\anaconda3\\envs\\ox\\Lib\\site-packages\\folium\\features.py:643\u001b[39m, in \u001b[36mGeoJson.__init__\u001b[39m\u001b[34m(self, data, style_function, highlight_function, name, overlay, control, show, smooth_factor, tooltip, embed, popup, zoom_on_click, marker)\u001b[39m\n\u001b[32m    638\u001b[39m         \u001b[38;5;28;01mraise\u001b[39;00m \u001b[38;5;167;01mTypeError\u001b[39;00m(\n\u001b[32m    639\u001b[39m             \u001b[33m\"\u001b[39m\u001b[33mOnly Marker, Circle, and CircleMarker are supported as GeoJson marker types.\u001b[39m\u001b[33m\"\u001b[39m\n\u001b[32m    640\u001b[39m         )\n\u001b[32m    641\u001b[39m \u001b[38;5;28mself\u001b[39m.marker = marker\n\u001b[32m--> \u001b[39m\u001b[32m643\u001b[39m \u001b[38;5;28mself\u001b[39m.data = \u001b[38;5;28mself\u001b[39m.process_data(data)\n\u001b[32m    645\u001b[39m \u001b[38;5;28;01mif\u001b[39;00m \u001b[38;5;28mself\u001b[39m.style \u001b[38;5;129;01mor\u001b[39;00m \u001b[38;5;28mself\u001b[39m.highlight:\n\u001b[32m    646\u001b[39m     \u001b[38;5;28mself\u001b[39m.convert_to_feature_collection()\n",
      "\u001b[36mFile \u001b[39m\u001b[32mc:\\ProgramData\\anaconda3\\envs\\ox\\Lib\\site-packages\\folium\\features.py:680\u001b[39m, in \u001b[36mGeoJson.process_data\u001b[39m\u001b[34m(self, data)\u001b[39m\n\u001b[32m    678\u001b[39m         \u001b[38;5;28;01mif\u001b[39;00m \u001b[38;5;129;01mnot\u001b[39;00m \u001b[38;5;28mself\u001b[39m.embed:\n\u001b[32m    679\u001b[39m             \u001b[38;5;28mself\u001b[39m.embed_link = data\n\u001b[32m--> \u001b[39m\u001b[32m680\u001b[39m         \u001b[38;5;28;01mwith\u001b[39;00m \u001b[38;5;28mopen\u001b[39m(data) \u001b[38;5;28;01mas\u001b[39;00m f:\n\u001b[32m    681\u001b[39m             \u001b[38;5;28;01mreturn\u001b[39;00m json.loads(f.read())\n\u001b[32m    682\u001b[39m \u001b[38;5;28;01melif\u001b[39;00m \u001b[38;5;28mhasattr\u001b[39m(data, \u001b[33m\"\u001b[39m\u001b[33m__geo_interface__\u001b[39m\u001b[33m\"\u001b[39m):\n",
      "\u001b[31mFileNotFoundError\u001b[39m: [Errno 2] No such file or directory: './data/georef-spain-provincia.geojson'"
     ]
    }
   ],
   "source": [
    "castellon_map = generate_castellon_map()\n",
    "castellon_map"
   ]
  },
  {
   "cell_type": "markdown",
   "metadata": {},
   "source": [
    "## 7. Display Local Images (Optional)\n",
    "\n",
    "If you have images in your data/images directory, display them using the visualization module."
   ]
  },
  {
   "cell_type": "code",
   "execution_count": null,
   "metadata": {},
   "outputs": [],
   "source": [
    "image_paths = [\n",
    "    (config.IMAGES_PATH + \"img1_El-Fadri.jpg\", \"Fig. 1: El Fadrí bell tower\"),\n",
    "    (config.IMAGES_PATH + \"img2_Planetarium.jpeg\", \"Fig. 2: Planetarium\"),\n",
    "    (config.IMAGES_PATH + \"img3_lush_Parque_ribalta.jpeg\", \"Fig. 3: Parque Ribalta\"),\n",
    "]\n",
    "display_images(image_paths)"
   ]
  },
  {
   "cell_type": "markdown",
   "metadata": {},
   "source": [
    "## 8. Further Analysis\n",
    "\n",
    "- Continue with spatial analysis, accessibility studies, statistical summaries, or visualizations as needed.\n",
    "- Import or implement more functions in `src/` as your project grows."
   ]
  }
 ],
 "metadata": {
  "kernelspec": {
   "display_name": "ox",
   "language": "python",
   "name": "python3"
  },
  "language_info": {
   "codemirror_mode": {
    "name": "ipython",
    "version": 3
   },
   "file_extension": ".py",
   "mimetype": "text/x-python",
   "name": "python",
   "nbconvert_exporter": "python",
   "pygments_lexer": "ipython3",
   "version": "3.12.9"
  }
 },
 "nbformat": 4,
 "nbformat_minor": 2
}
