{
 "cells": [
  {
   "cell_type": "markdown",
   "metadata": {},
   "source": [
    "# Care Centers in Castellon – Analysis Template\n",
    "\n",
    "This notebook demonstrates how to use your modularized code for data loading, cleaning, mapping, and analysis."
   ]
  },
  {
   "cell_type": "code",
   "metadata": {},
   "source": [
    "# --- 1. Notebook Setup: Import paths, libraries, and modules ---\n",
    "import sys\n",
    "sys.path.append('../src')  # Ensure the src folder is in the path\n",
    "\n",
    "import pandas as pd\n",
    "import geopandas as gpd\n",
    "import matplotlib.pyplot as plt\n",
    "\n",
    "from data import fetch_osm_data, clean_data\n",
    "from mapping import generate_castellon_map\n",
    "from visualization import display_images\n",
    "import config"
   ]
  },
  {
   "cell_type": "markdown",
   "metadata": {},
   "source": [
    "## 2. Data Collection\n",
    "\n",
    "Use the data module to fetch OSM data for Castellón."
   ]
  },
  {
   "cell_type": "code",
   "metadata": {},
   "source": [
    "city_name = \"Castellón, Valencian Community, Spain\"\n",
    "gdf_nodes, gdf_edges = fetch_osm_data(city_name)\n",
    "print(f\"Nodes: {gdf_nodes.shape}, Edges: {gdf_edges.shape}\")"
   ]
  },
  {
   "cell_type": "markdown",
   "metadata": {},
   "source": [
    "## 3. Data Inspection\n",
    "\n",
    "Preview the raw dataframes."
   ]
  },
  {
   "cell_type": "code",
   "metadata": {},
   "source": [
    "gdf_edges.head()"
   ]
  },
  {
   "cell_type": "markdown",
   "metadata": {},
   "source": [
    "## 4. Data Cleaning\n",
    "\n",
    "Clean the edge dataframe using the clean_data utility."
   ]
  },
  {
   "cell_type": "code",
   "metadata": {},
   "source": [
    "gdf_edges_clean = clean_data(gdf_edges)\n",
    "gdf_edges_clean.head()"
   ]
  },
  {
   "cell_type": "markdown",
   "metadata": {},
   "source": [
    "## 5. Quick Data Summary\n",
    "\n",
    "Check the number of columns and rows after cleaning."
   ]
  },
  {
   "cell_type": "code",
   "metadata": {},
   "source": [
    "print(f\"Cleaned Edges shape: {gdf_edges_clean.shape}\")\n",
    "print(f\"Columns: {gdf_edges_clean.columns.tolist()}\")"
   ]
  },
  {
   "cell_type": "markdown",
   "metadata": {},
   "source": [
    "## 6. Interactive Map of Castellon\n",
    "\n",
    "Use the mapping module to generate a folium map."
   ]
  },
  {
   "cell_type": "code",
   "metadata": {},
   "source": [
    "castellon_map = generate_castellon_map()\n",
    "castellon_map"
   ]
  },
  {
   "cell_type": "markdown",
   "metadata": {},
   "source": [
    "## 7. Display Local Images (Optional)\n",
    "\n",
    "If you have images in your data/images directory, display them using the visualization module."
   ]
  },
  {
   "cell_type": "code",
   "metadata": {},
   "source": [
    "image_paths = [\n",
    "    (config.IMAGES_PATH + \"img1_El-Fadri.jpg\", \"Fig. 1: El Fadrí bell tower\"),\n",
    "    (config.IMAGES_PATH + \"img2_Planetarium.jpeg\", \"Fig. 2: Planetarium\"),\n",
    "    (config.IMAGES_PATH + \"img3_lush_Parque_ribalta.jpeg\", \"Fig. 3: Parque Ribalta\"),\n",
    "]\n",
    "display_images(image_paths)"
   ]
  },
  {
   "cell_type": "markdown",
   "metadata": {},
   "source": [
    "## 8. Further Analysis\n",
    "\n",
    "- Continue with spatial analysis, accessibility studies, statistical summaries, or visualizations as needed.\n",
    "- Import or implement more functions in `src/` as your project grows."
   ]
  }
 ],
 "metadata": {
  "kernelspec": {
   "display_name": "Python 3",
   "language": "python",
   "name": "python3"
  },
  "language_info": {
   "name": "python",
   "version": "3.12"
  }
 },
 "nbformat": 4,
 "nbformat_minor": 2
}