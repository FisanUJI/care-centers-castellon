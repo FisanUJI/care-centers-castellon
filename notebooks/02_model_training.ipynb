{
 "cells": [],
 "metadata": {
  "colab": {
   "authorship_tag": "ABX9TyPZm3ZUGgyA9tLIG95Luu91",
   "mount_file_id": "1M4QEodts28VaXm7oNK9bJdZbkClTbY7b",
   "provenance": []
  },
  "kernelspec": {
   "display_name": "Python 3",
   "name": "python3"
  },
  "language_info": {
   "name": "python"
  }
 },
 "nbformat": 4,
 "nbformat_minor": 0
}
